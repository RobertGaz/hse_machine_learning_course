{
 "cells": [
  {
   "cell_type": "markdown",
   "metadata": {
    "id": "nPbVTFnMQuvW"
   },
   "source": [
    "## PyTorch\n",
    "\n",
    "Для выполнения следующего задания понадобится PyTorch. [Инструкция по установке](https://pytorch.org/get-started/locally/)\n",
    "\n",
    "Если у вас нет GPU, то можно использовать [Google Colab](https://colab.research.google.com/)"
   ]
  },
  {
   "cell_type": "code",
   "execution_count": 10,
   "metadata": {
    "id": "tV0mJLu-QuvX"
   },
   "outputs": [],
   "source": [
    "from torchvision import datasets, transforms\n",
    "from torch.utils.data import DataLoader\n",
    "import torch\n",
    "from tqdm import tqdm\n",
    "from torch import nn\n",
    "import torch.nn.functional as F\n",
    "import numpy as np\n",
    "import matplotlib.pyplot as plt"
   ]
  },
  {
   "cell_type": "code",
   "execution_count": 2,
   "metadata": {
    "colab": {
     "base_uri": "https://localhost:8080/",
     "height": 101,
     "referenced_widgets": [
      "9edbbdd8b1e843b2af0ec4f65868ce69",
      "0b81119650a8485c8dca783efa484e3a",
      "35fc919dcabf4f3cb8d45179874ba269",
      "c435007886d543c9b64b54a9c97ace8e",
      "e7dde2161ca148f79ba559807d1fa927",
      "896b5b589038469b9c2e179629ed9c34",
      "d8603e96241b41e9a17aecdb88ae5a9f",
      "ea9bfdbdb9b54db2a5bd0e6f6906a048",
      "d80cf0d6949a4371b18e46c2b447ba8b",
      "f3c237d691ef4ab9b81b4cdc41114c18",
      "1cae7e574f3540dcb59753498a593c60"
     ]
    },
    "id": "VUC_QqpAQuva",
    "outputId": "2b8c4f99-b165-4ed7-efd1-6ff0e3e70204"
   },
   "outputs": [
    {
     "name": "stdout",
     "output_type": "stream",
     "text": [
      "Downloading https://www.cs.toronto.edu/~kriz/cifar-10-python.tar.gz to datasets/cifar10/cifar-10-python.tar.gz\n"
     ]
    },
    {
     "data": {
      "application/vnd.jupyter.widget-view+json": {
       "model_id": "9edbbdd8b1e843b2af0ec4f65868ce69",
       "version_major": 2,
       "version_minor": 0
      },
      "text/plain": [
       "  0%|          | 0/170498071 [00:00<?, ?it/s]"
      ]
     },
     "metadata": {},
     "output_type": "display_data"
    },
    {
     "name": "stdout",
     "output_type": "stream",
     "text": [
      "Extracting datasets/cifar10/cifar-10-python.tar.gz to datasets/cifar10\n",
      "Files already downloaded and verified\n"
     ]
    }
   ],
   "source": [
    "device = torch.device(\"cuda\" if torch.cuda.is_available() else \"cpu\")\n",
    "\n",
    "t = transforms.ToTensor()\n",
    "\n",
    "cifar_train = datasets.CIFAR10(\"datasets/cifar10\", download=True, train=True, transform=t)\n",
    "train_loader = DataLoader(cifar_train, batch_size=1024, shuffle=True, pin_memory=torch.cuda.is_available())\n",
    "cifar_test = datasets.CIFAR10(\"datasets/cifar10\", download=True, train=False, transform=t)\n",
    "test_loader = DataLoader(cifar_test, batch_size=1024, shuffle=False, pin_memory=torch.cuda.is_available())"
   ]
  },
  {
   "cell_type": "markdown",
   "metadata": {
    "id": "rGmpjcFfQuvd"
   },
   "source": [
    "### Задание 4 (3 балла)\n",
    "А теперь поработам с настоящими нейронными сетями и настоящими данными. Необходимо реализовать сверточную нейронную сеть, которая будет классифицировать изображения из датасета CIFAR10. Имплементируйте класс `Model` и функцию `calculate_loss`. \n",
    "\n",
    "Обратите внимание, что `Model` должна считать в конце `softmax`, т.к. мы решаем задачу классификации. Соответствеено, функция `calculate_loss` считает cross-entropy.\n",
    "\n",
    "Для успешного выполнения задания необходимо, чтобы `accuracy`, `mean precision` и `mean recall` были больше 0.5\n",
    "\n",
    "__Можно пользоваться всем содержимым библиотеки PyTorch.__"
   ]
  },
  {
   "cell_type": "code",
   "execution_count": 3,
   "metadata": {
    "id": "5sRmTKwKQuve"
   },
   "outputs": [],
   "source": [
    "class Model(nn.Module):\n",
    "    def __init__(self):\n",
    "        super().__init__()\n",
    "        \n",
    "        self.pool = nn.MaxPool2d(kernel_size=2, stride=2)\n",
    "        self.conv1 = nn.Conv2d(in_channels=3, out_channels=6, kernel_size=3)\n",
    "        self.conv2 = nn.Conv2d(in_channels=6, out_channels=18, kernel_size=3)\n",
    "        \n",
    "        self.lin1 = nn.Linear(18*6*6, 60)\n",
    "        self.lin2 = nn.Linear(60, 10)\n",
    "        self.relu = nn.ReLU()\n",
    "        \n",
    "    def forward(self, x: torch.Tensor) -> torch.Tensor:\n",
    "        x = self.pool(self.conv1(x))\n",
    "        x = self.pool(self.conv2(x))\n",
    "        x = x.flatten(start_dim=1)\n",
    "        x = self.lin1(x)\n",
    "        x = self.relu(x)\n",
    "        x = self.lin2(x)\n",
    "        x = self.relu(x)\n",
    "        return x\n",
    "        \n",
    "def calculate_loss(X: torch.Tensor, y: torch.Tensor, model: Model):\n",
    "    \"\"\"\n",
    "    Cчитает cross-entropy.\n",
    "\n",
    "    Parameters\n",
    "    ----------\n",
    "    X : torch.Tensor\n",
    "        Данные для обучения.\n",
    "    y : torch.Tensor\n",
    "        Метки классов.\n",
    "    model : Model\n",
    "        Модель, которую будем обучать.\n",
    "\n",
    "    \"\"\"\n",
    "    \n",
    "    y_pred = model.forward(X)\n",
    "    loss = F.cross_entropy(y_pred, y)\n",
    "    \n",
    "    return loss"
   ]
  },
  {
   "cell_type": "markdown",
   "metadata": {
    "id": "JAsLmkUqQuvh"
   },
   "source": [
    "Теперь обучим нашу модель. Для этого используем ранее созданные batch loader'ы."
   ]
  },
  {
   "cell_type": "code",
   "execution_count": 4,
   "metadata": {
    "id": "k5G8iMCeQuvh"
   },
   "outputs": [],
   "source": [
    "def train(model, epochs=100):\n",
    "    optimizer = torch.optim.Adam(model.parameters())\n",
    "    train_losses = []\n",
    "    test_losses = []\n",
    "    for i in range(epochs):\n",
    "        #Train\n",
    "        loss_mean = 0\n",
    "        elements = 0\n",
    "        for X, y in iter(train_loader):\n",
    "            X = X.to(device)\n",
    "            y = y.to(device)\n",
    "            loss = calculate_loss(X, y, model)\n",
    "            optimizer.zero_grad()\n",
    "            loss.backward()\n",
    "            optimizer.step()\n",
    "            loss_mean += loss.item() * len(X)\n",
    "            elements += len(X)\n",
    "        train_losses.append(loss_mean / elements)\n",
    "        #Test\n",
    "        loss_mean = 0 \n",
    "        elements = 0\n",
    "        for X, y in iter(test_loader):\n",
    "            X = X.to(device)\n",
    "            y = y.to(device)\n",
    "            loss = calculate_loss(X, y, model)\n",
    "            loss_mean += loss.item() * len(X)\n",
    "            elements += len(X)\n",
    "        test_losses.append(loss_mean / elements)\n",
    "        print(\"Epoch\", i, \"| Train loss\", train_losses[-1], \"| Test loss\", test_losses[-1])\n",
    "    return train_losses, test_losses"
   ]
  },
  {
   "cell_type": "code",
   "execution_count": 7,
   "metadata": {
    "colab": {
     "base_uri": "https://localhost:8080/"
    },
    "id": "vmD9eWJOQuvl",
    "outputId": "81ae3f9c-9b3d-4349-be62-5ba834a79365",
    "scrolled": true
   },
   "outputs": [
    {
     "name": "stdout",
     "output_type": "stream",
     "text": [
      "Epoch 0 | Train loss 2.1861439781951906 | Test loss 2.047672246551514\n",
      "Epoch 1 | Train loss 1.9850886638641358 | Test loss 1.8977589752197266\n",
      "Epoch 2 | Train loss 1.8062108667373658 | Test loss 1.7374936075210572\n",
      "Epoch 3 | Train loss 1.6957044927215577 | Test loss 1.6655239995956421\n",
      "Epoch 4 | Train loss 1.620850944290161 | Test loss 1.5938606548309326\n",
      "Epoch 5 | Train loss 1.5695207251358032 | Test loss 1.5647115741729736\n",
      "Epoch 6 | Train loss 1.5265235845184326 | Test loss 1.5054514692306518\n",
      "Epoch 7 | Train loss 1.4828811248397826 | Test loss 1.4674826391220093\n",
      "Epoch 8 | Train loss 1.443983384552002 | Test loss 1.4344260284423829\n",
      "Epoch 9 | Train loss 1.411859539413452 | Test loss 1.4017547651290894\n",
      "Epoch 10 | Train loss 1.3845478486251832 | Test loss 1.379503638458252\n",
      "Epoch 11 | Train loss 1.3550876800537108 | Test loss 1.3627880083084107\n",
      "Epoch 12 | Train loss 1.3331899461746215 | Test loss 1.3394460948944091\n",
      "Epoch 13 | Train loss 1.3139182941818237 | Test loss 1.3250094007492066\n",
      "Epoch 14 | Train loss 1.2977539131927491 | Test loss 1.3193123123168946\n",
      "Epoch 15 | Train loss 1.2779304415893555 | Test loss 1.3095959157943726\n",
      "Epoch 16 | Train loss 1.262661645011902 | Test loss 1.2826844686508179\n",
      "Epoch 17 | Train loss 1.243332806739807 | Test loss 1.273427045249939\n",
      "Epoch 18 | Train loss 1.2302186332702636 | Test loss 1.262744249343872\n",
      "Epoch 19 | Train loss 1.2127061795425416 | Test loss 1.2502019317626953\n",
      "Epoch 20 | Train loss 1.2048754216384887 | Test loss 1.2521080835342406\n",
      "Epoch 21 | Train loss 1.1869042369842528 | Test loss 1.2171530624389648\n",
      "Epoch 22 | Train loss 1.1710566455078124 | Test loss 1.2288905599594115\n",
      "Epoch 23 | Train loss 1.1625174880218505 | Test loss 1.2075764881134032\n",
      "Epoch 24 | Train loss 1.1508857291793824 | Test loss 1.2062058263778686\n",
      "Epoch 25 | Train loss 1.136528046913147 | Test loss 1.1929534200668335\n",
      "Epoch 26 | Train loss 1.1363683240509033 | Test loss 1.1965445507049561\n",
      "Epoch 27 | Train loss 1.1189262522888184 | Test loss 1.1762972450256348\n",
      "Epoch 28 | Train loss 1.1119017897033692 | Test loss 1.17722075176239\n",
      "Epoch 29 | Train loss 1.101057229537964 | Test loss 1.1662857419967652\n",
      "Epoch 30 | Train loss 1.093731148147583 | Test loss 1.1868403404235839\n",
      "Epoch 31 | Train loss 1.0892058460617065 | Test loss 1.179274112892151\n",
      "Epoch 32 | Train loss 1.079957763900757 | Test loss 1.1484929107666015\n",
      "Epoch 33 | Train loss 1.0676171194839477 | Test loss 1.1632575170516968\n",
      "Epoch 34 | Train loss 1.0655378772926332 | Test loss 1.1438969678878783\n",
      "Epoch 35 | Train loss 1.0555926504898072 | Test loss 1.1448578672409058\n",
      "Epoch 36 | Train loss 1.0515581839179993 | Test loss 1.1406105308532715\n",
      "Epoch 37 | Train loss 1.0465104406738281 | Test loss 1.1415433870315552\n",
      "Epoch 38 | Train loss 1.0347668822097777 | Test loss 1.136185689163208\n",
      "Epoch 39 | Train loss 1.0269552712631225 | Test loss 1.133113276863098\n",
      "Epoch 40 | Train loss 1.0256787248420716 | Test loss 1.1322642013549804\n",
      "Epoch 41 | Train loss 1.019592664642334 | Test loss 1.1265265169143677\n",
      "Epoch 42 | Train loss 1.0128306295776368 | Test loss 1.128343404006958\n",
      "Epoch 43 | Train loss 1.0102453861618041 | Test loss 1.1305313482284547\n",
      "Epoch 44 | Train loss 1.0000144742012025 | Test loss 1.1199136310577393\n",
      "Epoch 45 | Train loss 0.9934563260269165 | Test loss 1.1172700918197631\n",
      "Epoch 46 | Train loss 0.9874273015213013 | Test loss 1.116210737800598\n",
      "Epoch 47 | Train loss 0.9824433903503418 | Test loss 1.1215654001235962\n",
      "Epoch 48 | Train loss 0.984094470653534 | Test loss 1.115723038673401\n",
      "Epoch 49 | Train loss 0.9725516037940979 | Test loss 1.125183243751526\n",
      "Epoch 50 | Train loss 0.9684818912124634 | Test loss 1.1148462308883667\n",
      "Epoch 51 | Train loss 0.9673924736404419 | Test loss 1.124893225479126\n",
      "Epoch 52 | Train loss 0.9615785302734375 | Test loss 1.1108690185546874\n",
      "Epoch 53 | Train loss 0.9530742650413513 | Test loss 1.1083477186203003\n",
      "Epoch 54 | Train loss 0.9474746659088135 | Test loss 1.109329090309143\n",
      "Epoch 55 | Train loss 0.943880354232788 | Test loss 1.1077087627410889\n",
      "Epoch 56 | Train loss 0.9377788807868958 | Test loss 1.1084306049346924\n",
      "Epoch 57 | Train loss 0.9413010837173462 | Test loss 1.1155823945999146\n",
      "Epoch 58 | Train loss 0.9337401093864441 | Test loss 1.109912335395813\n",
      "Epoch 59 | Train loss 0.9269343411445617 | Test loss 1.1196178983688354\n",
      "Epoch 60 | Train loss 0.9259360867500305 | Test loss 1.1103618446350099\n",
      "Epoch 61 | Train loss 0.9216858186149597 | Test loss 1.1050801458358765\n",
      "Epoch 62 | Train loss 0.9160988459587097 | Test loss 1.1074656528472901\n",
      "Epoch 63 | Train loss 0.9102781357955932 | Test loss 1.1042859775543212\n",
      "Epoch 64 | Train loss 0.907283683013916 | Test loss 1.104044238090515\n",
      "Epoch 65 | Train loss 0.9034490159606934 | Test loss 1.1104428861618043\n",
      "Epoch 66 | Train loss 0.9035117186546325 | Test loss 1.10387672290802\n",
      "Epoch 67 | Train loss 0.8975080649375915 | Test loss 1.1055862031936645\n",
      "Epoch 68 | Train loss 0.8896892807197571 | Test loss 1.103149501800537\n",
      "Epoch 69 | Train loss 0.8855697645759583 | Test loss 1.1075192098617554\n",
      "Epoch 70 | Train loss 0.883581921749115 | Test loss 1.105727029800415\n",
      "Epoch 71 | Train loss 0.8804579297065734 | Test loss 1.1089171216964722\n",
      "Epoch 72 | Train loss 0.8747193429756165 | Test loss 1.1159125995635986\n",
      "Epoch 73 | Train loss 0.8728840982246399 | Test loss 1.1059380523681641\n",
      "Epoch 74 | Train loss 0.8665867060661316 | Test loss 1.1156814496994019\n",
      "Epoch 75 | Train loss 0.8693454187774659 | Test loss 1.1065638626098633\n",
      "Epoch 76 | Train loss 0.8623400904464722 | Test loss 1.122246780014038\n",
      "Epoch 77 | Train loss 0.8576718958473205 | Test loss 1.0987471851348878\n",
      "Epoch 78 | Train loss 0.850924130935669 | Test loss 1.1085657922744752\n",
      "Epoch 79 | Train loss 0.8480728939628601 | Test loss 1.1036304039001466\n",
      "Epoch 80 | Train loss 0.8507441854858399 | Test loss 1.1101398233413697\n",
      "Epoch 81 | Train loss 0.8423596195220947 | Test loss 1.1148154504776\n",
      "Epoch 82 | Train loss 0.8421231547355652 | Test loss 1.1091768997192384\n",
      "Epoch 83 | Train loss 0.8363330981636047 | Test loss 1.1134849458694458\n",
      "Epoch 84 | Train loss 0.8317141037940979 | Test loss 1.1165492290496826\n",
      "Epoch 85 | Train loss 0.8279465303611755 | Test loss 1.1241958396911622\n",
      "Epoch 86 | Train loss 0.8225156198501586 | Test loss 1.117624761390686\n",
      "Epoch 87 | Train loss 0.8217189108085632 | Test loss 1.1182640235900878\n",
      "Epoch 88 | Train loss 0.8162912312889099 | Test loss 1.1416375825881957\n",
      "Epoch 89 | Train loss 0.8139542066574097 | Test loss 1.116862010383606\n",
      "Epoch 90 | Train loss 0.8082950950431824 | Test loss 1.1212248163223266\n",
      "Epoch 91 | Train loss 0.8071944376373291 | Test loss 1.119348932647705\n",
      "Epoch 92 | Train loss 0.8035433369255066 | Test loss 1.119939688873291\n",
      "Epoch 93 | Train loss 0.8004245224189759 | Test loss 1.1203030529022218\n",
      "Epoch 94 | Train loss 0.794645004119873 | Test loss 1.1280055109024048\n",
      "Epoch 95 | Train loss 0.7920906164360046 | Test loss 1.1185955303192139\n",
      "Epoch 96 | Train loss 0.7894675929069519 | Test loss 1.1301676027297973\n",
      "Epoch 97 | Train loss 0.7861009751701356 | Test loss 1.122966379928589\n",
      "Epoch 98 | Train loss 0.7820497263145447 | Test loss 1.1266396047592162\n",
      "Epoch 99 | Train loss 0.7776100309181213 | Test loss 1.1305344320297241\n"
     ]
    }
   ],
   "source": [
    "model = Model().to(device)\n",
    "train_l, test_l = train(model)"
   ]
  },
  {
   "cell_type": "markdown",
   "metadata": {
    "id": "OJNAuHjNQuvn"
   },
   "source": [
    "Построим график функции потерь"
   ]
  },
  {
   "cell_type": "code",
   "execution_count": 8,
   "metadata": {
    "colab": {
     "base_uri": "https://localhost:8080/",
     "height": 441
    },
    "id": "F6OEGqriQuvo",
    "outputId": "6b285059-4690-427f-b5e2-a587f9fb28dd"
   },
   "outputs": [
    {
     "data": {
      "image/png": "[encoded data removed]",
      "text/plain": [
       "<Figure size 864x432 with 1 Axes>"
      ]
     },
     "metadata": {
      "needs_background": "light"
     },
     "output_type": "display_data"
    }
   ],
   "source": [
    "plt.figure(figsize=(12, 6))\n",
    "plt.plot(range(len(train_l)), train_l, label=\"train\")\n",
    "plt.plot(range(len(test_l)), test_l, label=\"test\")\n",
    "plt.xlabel(\"Epoch\")\n",
    "plt.ylabel(\"Loss\")\n",
    "plt.legend()\n",
    "plt.tight_layout()\n",
    "plt.show()"
   ]
  },
  {
   "cell_type": "markdown",
   "metadata": {
    "id": "miUxg0bDQuvs"
   },
   "source": [
    "И, наконец, посчитаем метрики"
   ]
  },
  {
   "cell_type": "code",
   "execution_count": 11,
   "metadata": {
    "colab": {
     "base_uri": "https://localhost:8080/"
    },
    "id": "UXSOJFI8Quvt",
    "outputId": "aede8fd6-1a8a-4f6e-b84f-6510616e72bb"
   },
   "outputs": [
    {
     "name": "stdout",
     "output_type": "stream",
     "text": [
      "Overall accuracy 0.6257\n",
      "Precision [0.67301906 0.75106383 0.5284738  0.42869955 0.56063618 0.54928018\n",
      " 0.68600368 0.69441624 0.74603175 0.64417745]\n",
      "Recall [0.671 0.706 0.464 0.478 0.564 0.496 0.745 0.684 0.752 0.697]\n",
      "Mean Precision 0.626180172481425\n",
      "Mean Recall 0.6256999999999999\n"
     ]
    }
   ],
   "source": [
    "true_positive = np.zeros(10)\n",
    "true_negative = np.zeros(10)\n",
    "false_positive = np.zeros(10)\n",
    "false_negative = np.zeros(10)\n",
    "accuracy = 0\n",
    "ctn = 0\n",
    "for X, y in iter(test_loader):\n",
    "    X = X.to(device)\n",
    "    y = y.to(device)\n",
    "    with torch.no_grad():\n",
    "        y_pred = model(X).max(dim=1)[1]\n",
    "    for i in range(10):\n",
    "        for pred, real in zip(y_pred, y):\n",
    "            if real == i:\n",
    "                if pred == real:\n",
    "                    true_positive[i] += 1\n",
    "                else:\n",
    "                    false_negative[i] += 1\n",
    "            else:\n",
    "                if pred == i:\n",
    "                    false_positive[i] += 1\n",
    "                else:\n",
    "                    true_negative[i] += 1\n",
    "            \n",
    "    accuracy += torch.sum(y_pred == y).item()\n",
    "    ctn += len(y)\n",
    "print(\"Overall accuracy\", accuracy / ctn)\n",
    "print(\"Precision\", true_positive / (true_positive + false_positive))\n",
    "print(\"Recall\", true_positive / (true_positive + false_negative))\n",
    "print(\"Mean Precision\", np.mean(true_positive / (true_positive + false_positive)))\n",
    "print(\"Mean Recall\", np.mean(true_positive / (true_positive + false_negative)))"
   ]
  }
 ],
 "metadata": {
  "accelerator": "GPU",
  "colab": {
   "collapsed_sections": [],
   "name": "hw05_task.ipynb",
   "provenance": []
  },
  "kernelspec": {
   "display_name": "Python 3 (ipykernel)",
   "language": "python",
   "name": "python3"
  },
  "language_info": {
   "codemirror_mode": {
    "name": "ipython",
    "version": 3
   },
   "file_extension": ".py",
   "mimetype": "text/x-python",
   "name": "python",
   "nbconvert_exporter": "python",
   "pygments_lexer": "ipython3",
   "version": "3.8.10"
  },
  "widgets": {
   "application/vnd.jupyter.widget-state+json": {
    "0b81119650a8485c8dca783efa484e3a": {
     "model_module": "@jupyter-widgets/base",
     "model_module_version": "1.2.0",
     "model_name": "LayoutModel",
     "state": {
      "_model_module": "@jupyter-widgets/base",
      "_model_module_version": "1.2.0",
      "_model_name": "LayoutModel",
      "_view_count": null,
      "_view_module": "@jupyter-widgets/base",
      "_view_module_version": "1.2.0",
      "_view_name": "LayoutView",
      "align_content": null,
      "align_items": null,
      "align_self": null,
      "border": null,
      "bottom": null,
      "display": null,
      "flex": null,
      "flex_flow": null,
      "grid_area": null,
      "grid_auto_columns": null,
      "grid_auto_flow": null,
      "grid_auto_rows": null,
      "grid_column": null,
      "grid_gap": null,
      "grid_row": null,
      "grid_template_areas": null,
      "grid_template_columns": null,
      "grid_template_rows": null,
      "height": null,
      "justify_content": null,
      "justify_items": null,
      "left": null,
      "margin": null,
      "max_height": null,
      "max_width": null,
      "min_height": null,
      "min_width": null,
      "object_fit": null,
      "object_position": null,
      "order": null,
      "overflow": null,
      "overflow_x": null,
      "overflow_y": null,
      "padding": null,
      "right": null,
      "top": null,
      "visibility": null,
      "width": null
     }
    },
    "1cae7e574f3540dcb59753498a593c60": {
     "model_module": "@jupyter-widgets/base",
     "model_module_version": "1.2.0",
     "model_name": "LayoutModel",
     "state": {
      "_model_module": "@jupyter-widgets/base",
      "_model_module_version": "1.2.0",
      "_model_name": "LayoutModel",
      "_view_count": null,
      "_view_module": "@jupyter-widgets/base",
      "_view_module_version": "1.2.0",
      "_view_name": "LayoutView",
      "align_content": null,
      "align_items": null,
      "align_self": null,
      "border": null,
      "bottom": null,
      "display": null,
      "flex": null,
      "flex_flow": null,
      "grid_area": null,
      "grid_auto_columns": null,
      "grid_auto_flow": null,
      "grid_auto_rows": null,
      "grid_column": null,
      "grid_gap": null,
      "grid_row": null,
      "grid_template_areas": null,
      "grid_template_columns": null,
      "grid_template_rows": null,
      "height": null,
      "justify_content": null,
      "justify_items": null,
      "left": null,
      "margin": null,
      "max_height": null,
      "max_width": null,
      "min_height": null,
      "min_width": null,
      "object_fit": null,
      "object_position": null,
      "order": null,
      "overflow": null,
      "overflow_x": null,
      "overflow_y": null,
      "padding": null,
      "right": null,
      "top": null,
      "visibility": null,
      "width": null
     }
    },
    "35fc919dcabf4f3cb8d45179874ba269": {
     "model_module": "@jupyter-widgets/controls",
     "model_module_version": "1.5.0",
     "model_name": "HTMLModel",
     "state": {
      "_dom_classes": [],
      "_model_module": "@jupyter-widgets/controls",
      "_model_module_version": "1.5.0",
      "_model_name": "HTMLModel",
      "_view_count": null,
      "_view_module": "@jupyter-widgets/controls",
      "_view_module_version": "1.5.0",
      "_view_name": "HTMLView",
      "description": "",
      "description_tooltip": null,
      "layout": "IPY_MODEL_d8603e96241b41e9a17aecdb88ae5a9f",
      "placeholder": "​",
      "style": "IPY_MODEL_896b5b589038469b9c2e179629ed9c34",
      "value": ""
     }
    },
    "896b5b589038469b9c2e179629ed9c34": {
     "model_module": "@jupyter-widgets/controls",
     "model_module_version": "1.5.0",
     "model_name": "DescriptionStyleModel",
     "state": {
      "_model_module": "@jupyter-widgets/controls",
      "_model_module_version": "1.5.0",
      "_model_name": "DescriptionStyleModel",
      "_view_count": null,
      "_view_module": "@jupyter-widgets/base",
      "_view_module_version": "1.2.0",
      "_view_name": "StyleView",
      "description_width": ""
     }
    },
    "9edbbdd8b1e843b2af0ec4f65868ce69": {
     "model_module": "@jupyter-widgets/controls",
     "model_module_version": "1.5.0",
     "model_name": "HBoxModel",
     "state": {
      "_dom_classes": [],
      "_model_module": "@jupyter-widgets/controls",
      "_model_module_version": "1.5.0",
      "_model_name": "HBoxModel",
      "_view_count": null,
      "_view_module": "@jupyter-widgets/controls",
      "_view_module_version": "1.5.0",
      "_view_name": "HBoxView",
      "box_style": "",
      "children": [
       "IPY_MODEL_35fc919dcabf4f3cb8d45179874ba269",
       "IPY_MODEL_c435007886d543c9b64b54a9c97ace8e",
       "IPY_MODEL_e7dde2161ca148f79ba559807d1fa927"
      ],
      "layout": "IPY_MODEL_0b81119650a8485c8dca783efa484e3a"
     }
    },
    "c435007886d543c9b64b54a9c97ace8e": {
     "model_module": "@jupyter-widgets/controls",
     "model_module_version": "1.5.0",
     "model_name": "FloatProgressModel",
     "state": {
      "_dom_classes": [],
      "_model_module": "@jupyter-widgets/controls",
      "_model_module_version": "1.5.0",
      "_model_name": "FloatProgressModel",
      "_view_count": null,
      "_view_module": "@jupyter-widgets/controls",
      "_view_module_version": "1.5.0",
      "_view_name": "ProgressView",
      "bar_style": "success",
      "description": "",
      "description_tooltip": null,
      "layout": "IPY_MODEL_d80cf0d6949a4371b18e46c2b447ba8b",
      "max": 170498071,
      "min": 0,
      "orientation": "horizontal",
      "style": "IPY_MODEL_ea9bfdbdb9b54db2a5bd0e6f6906a048",
      "value": 170498071
     }
    },
    "d80cf0d6949a4371b18e46c2b447ba8b": {
     "model_module": "@jupyter-widgets/base",
     "model_module_version": "1.2.0",
     "model_name": "LayoutModel",
     "state": {
      "_model_module": "@jupyter-widgets/base",
      "_model_module_version": "1.2.0",
      "_model_name": "LayoutModel",
      "_view_count": null,
      "_view_module": "@jupyter-widgets/base",
      "_view_module_version": "1.2.0",
      "_view_name": "LayoutView",
      "align_content": null,
      "align_items": null,
      "align_self": null,
      "border": null,
      "bottom": null,
      "display": null,
      "flex": null,
      "flex_flow": null,
      "grid_area": null,
      "grid_auto_columns": null,
      "grid_auto_flow": null,
      "grid_auto_rows": null,
      "grid_column": null,
      "grid_gap": null,
      "grid_row": null,
      "grid_template_areas": null,
      "grid_template_columns": null,
      "grid_template_rows": null,
      "height": null,
      "justify_content": null,
      "justify_items": null,
      "left": null,
      "margin": null,
      "max_height": null,
      "max_width": null,
      "min_height": null,
      "min_width": null,
      "object_fit": null,
      "object_position": null,
      "order": null,
      "overflow": null,
      "overflow_x": null,
      "overflow_y": null,
      "padding": null,
      "right": null,
      "top": null,
      "visibility": null,
      "width": null
     }
    },
    "d8603e96241b41e9a17aecdb88ae5a9f": {
     "model_module": "@jupyter-widgets/base",
     "model_module_version": "1.2.0",
     "model_name": "LayoutModel",
     "state": {
      "_model_module": "@jupyter-widgets/base",
      "_model_module_version": "1.2.0",
      "_model_name": "LayoutModel",
      "_view_count": null,
      "_view_module": "@jupyter-widgets/base",
      "_view_module_version": "1.2.0",
      "_view_name": "LayoutView",
      "align_content": null,
      "align_items": null,
      "align_self": null,
      "border": null,
      "bottom": null,
      "display": null,
      "flex": null,
      "flex_flow": null,
      "grid_area": null,
      "grid_auto_columns": null,
      "grid_auto_flow": null,
      "grid_auto_rows": null,
      "grid_column": null,
      "grid_gap": null,
      "grid_row": null,
      "grid_template_areas": null,
      "grid_template_columns": null,
      "grid_template_rows": null,
      "height": null,
      "justify_content": null,
      "justify_items": null,
      "left": null,
      "margin": null,
      "max_height": null,
      "max_width": null,
      "min_height": null,
      "min_width": null,
      "object_fit": null,
      "object_position": null,
      "order": null,
      "overflow": null,
      "overflow_x": null,
      "overflow_y": null,
      "padding": null,
      "right": null,
      "top": null,
      "visibility": null,
      "width": null
     }
    },
    "e7dde2161ca148f79ba559807d1fa927": {
     "model_module": "@jupyter-widgets/controls",
     "model_module_version": "1.5.0",
     "model_name": "HTMLModel",
     "state": {
      "_dom_classes": [],
      "_model_module": "@jupyter-widgets/controls",
      "_model_module_version": "1.5.0",
      "_model_name": "HTMLModel",
      "_view_count": null,
      "_view_module": "@jupyter-widgets/controls",
      "_view_module_version": "1.5.0",
      "_view_name": "HTMLView",
      "description": "",
      "description_tooltip": null,
      "layout": "IPY_MODEL_1cae7e574f3540dcb59753498a593c60",
      "placeholder": "​",
      "style": "IPY_MODEL_f3c237d691ef4ab9b81b4cdc41114c18",
      "value": " 170499072/? [00:11&lt;00:00, 17000749.46it/s]"
     }
    },
    "ea9bfdbdb9b54db2a5bd0e6f6906a048": {
     "model_module": "@jupyter-widgets/controls",
     "model_module_version": "1.5.0",
     "model_name": "ProgressStyleModel",
     "state": {
      "_model_module": "@jupyter-widgets/controls",
      "_model_module_version": "1.5.0",
      "_model_name": "ProgressStyleModel",
      "_view_count": null,
      "_view_module": "@jupyter-widgets/base",
      "_view_module_version": "1.2.0",
      "_view_name": "StyleView",
      "bar_color": null,
      "description_width": ""
     }
    },
    "f3c237d691ef4ab9b81b4cdc41114c18": {
     "model_module": "@jupyter-widgets/controls",
     "model_module_version": "1.5.0",
     "model_name": "DescriptionStyleModel",
     "state": {
      "_model_module": "@jupyter-widgets/controls",
      "_model_module_version": "1.5.0",
      "_model_name": "DescriptionStyleModel",
      "_view_count": null,
      "_view_module": "@jupyter-widgets/base",
      "_view_module_version": "1.2.0",
      "_view_name": "StyleView",
      "description_width": ""
     }
    }
   }
  }
 },
 "nbformat": 4,
 "nbformat_minor": 1
}

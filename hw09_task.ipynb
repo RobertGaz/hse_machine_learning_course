{
 "cells": [
  {
   "cell_type": "markdown",
   "metadata": {
    "id": "kxs2-KrwXHIJ"
   },
   "source": [
    "# Случайные леса\n",
    "__Суммарное количество баллов: 10__\n",
    "\n",
    "__Решение отправлять на `ml.course.practice@gmail.com`__\n",
    "\n",
    "__Тема письма: `[HSE][ML][MS][HW09] <ФИ>`, где вместо `<ФИ>` указаны фамилия и имя__\n",
    "\n",
    "В этом задании вам предстоит реализовать ансамбль деревьев решений, известный как случайный лес, применить его к публичным данным пользователей социальной сети Вконтакте, и сравнить его эффективность с ансамблем, предоставляемым библиотекой CatBoost.\n",
    "\n",
    "В результате мы сможем определить, какие подписки пользователей больше всего влияют на определение возраста и пола человека. "
   ]
  },
  {
   "cell_type": "code",
   "execution_count": 1,
   "metadata": {
    "id": "igibYsAlXHIN"
   },
   "outputs": [],
   "source": [
    "from sklearn.model_selection import train_test_split\n",
    "import numpy as np\n",
    "import pandas\n",
    "import random\n",
    "import matplotlib.pyplot as plt\n",
    "import matplotlib\n",
    "import copy\n",
    "from catboost import CatBoostClassifier, Pool\n",
    "from collections import Counter"
   ]
  },
  {
   "cell_type": "markdown",
   "metadata": {
    "id": "NL0piKVuXHIP"
   },
   "source": [
    "### Задание 1 (2 балла)\n",
    "Random Forest состоит из деревьев решений. Каждое такое дерево строится на одной из выборок, полученных при помощи bagging. Элементы, которые не вошли в новую обучающую выборку, образуют out-of-bag выборку. Кроме того, в каждом узле дерева мы случайным образом выбираем набор из `max_features` и ищем признак для предиката разбиения только в этом наборе.\n",
    "\n",
    "Сегодня мы будем работать только с бинарными признаками, поэтому нет необходимости выбирать значение признака для разбиения.\n",
    "\n",
    "#### Методы\n",
    "`predict(X)` - возвращает предсказанные метки для элементов выборки `X`\n",
    "\n",
    "#### Параметры конструктора\n",
    "`X, y` - обучающая выборка и соответствующие ей метки классов. Из нее нужно получить выборку для построения дерева при помощи bagging. Out-of-bag выборку нужно запомнить, она понадобится потом.\n",
    "\n",
    "`criterion=\"gini\"` - задает критерий, который будет использоваться при построении дерева. Возможные значения: `\"gini\"`, `\"entropy\"`.\n",
    "\n",
    "`max_depth=None` - ограничение глубины дерева. Если `None` - глубина не ограничена\n",
    "\n",
    "`min_samples_leaf=1` - минимальное количество элементов в каждом листе дерева.\n",
    "\n",
    "`max_features=\"auto\"` - количество признаков, которые могут использоваться в узле. Если `\"auto\"` - равно `sqrt(X.shape[1])`"
   ]
  },
  {
   "cell_type": "code",
   "execution_count": 2,
   "metadata": {
    "id": "u3nZDhW3XHIO"
   },
   "outputs": [],
   "source": [
    "def gini(x):\n",
    "    result = 0\n",
    "    for y in np.unique(x):\n",
    "        p_y = (x==y).sum() / len(x)\n",
    "        result += p_y * (1 - p_y)\n",
    "    return result\n",
    "    \n",
    "def entropy(x):\n",
    "    result = 0\n",
    "    for y in np.unique(x):\n",
    "        p_y = (x==y).sum() / len(x)\n",
    "        result += p_y * np.log(p_y)\n",
    "    return -result\n",
    "\n",
    "def gain(left_y, right_y, criterion):\n",
    "    node_size = len(left_y) + len(right_y)\n",
    "    return criterion(np.hstack((left_y, right_y))) - len(left_y) / node_size * criterion(left_y) - len(right_y) / node_size * criterion(right_y)"
   ]
  },
  {
   "cell_type": "code",
   "execution_count": 3,
   "metadata": {},
   "outputs": [],
   "source": [
    "class DecisionTreeLeaf:\n",
    "    def __init__(self, y):\n",
    "        self.y = y\n",
    "\n",
    "class DecisionTreeNode:\n",
    "    def __init__(self, split_dim, left, right):\n",
    "        self.split_dim = split_dim\n",
    "        self.left = left\n",
    "        self.right = right"
   ]
  },
  {
   "cell_type": "code",
   "execution_count": 4,
   "metadata": {
    "id": "1gShAKrgXHIQ"
   },
   "outputs": [],
   "source": [
    "class DecisionTree:\n",
    "    def __init__(self, X, y, criterion=\"gini\", max_depth=None, min_samples_leaf=1, max_features=\"auto\"):\n",
    "        self.criterion = gini if criterion == 'gini' else entropy\n",
    "        self.max_depth = max_depth\n",
    "        self.min_samples_leaf = min_samples_leaf\n",
    "        self.max_features = int(np.sqrt(X.shape[1])) if max_features == 'auto' else max_features\n",
    "        self.unique = np.unique(X)\n",
    "        self.root = self.build(X, y, 0)\n",
    "        \n",
    "    def build(self, X, y, cur_depth):\n",
    "\n",
    "        if cur_depth == self.max_depth:\n",
    "            return DecisionTreeLeaf(max(Counter(y), key=counts.get))\n",
    "        \n",
    "        max_gain = -1\n",
    "    \n",
    "        rand_features = np.random.choice(np.arange(X.shape[1]), size=self.max_features, replace=False)\n",
    "    \n",
    "        for i in rand_features:\n",
    "            y_left = y[X[:,i] == self.unique[0]]\n",
    "            y_right = y[X[:,i] == self.unique[1]]\n",
    "            cur_gain = gain(y_left, y_right, self.criterion)\n",
    "            if cur_gain > max_gain:\n",
    "                max_gain = cur_gain\n",
    "                split_dim = i        \n",
    "        \n",
    "        left_mask = X[:,split_dim] == self.unique[0]\n",
    "        right_mask = X[:,split_dim] == self.unique[1]\n",
    "        \n",
    "        if left_mask.sum() <= self.min_samples_leaf or right_mask.sum() <= self.min_samples_leaf:\n",
    "            return DecisionTreeLeaf(max(Counter(y), key=counts.get))   \n",
    "        \n",
    "        left_child = self.build(X[left_mask], y[left_mask], cur_depth+1)\n",
    "        right_child = self.build(X[right_mask], y[right_mask], cur_depth+1)\n",
    "\n",
    "        return DecisionTreeNode(split_dim, left_child, right_child)    \n",
    "    \n",
    "    def predict(self, X):\n",
    "        \n",
    "        result = []\n",
    "        \n",
    "        for x in X:\n",
    "            cur_node = self.root\n",
    "            while type(cur_node) != DecisionTreeLeaf:\n",
    "                if x[cur_node.split_dim]==self.unique[0]:\n",
    "                    cur_node = cur_node.left\n",
    "                else:\n",
    "                    cur_node = cur_node.right\n",
    "            \n",
    "            result.append(cur_node.y)\n",
    "        \n",
    "        return np.array(result)"
   ]
  },
  {
   "cell_type": "markdown",
   "metadata": {
    "id": "QbfDFicaXHIQ"
   },
   "source": [
    "### Задание 2 (2 балла)\n",
    "Теперь реализуем сам Random Forest. Идея очень простая: строим `n` деревьев, а затем берем модальное предсказание.\n",
    "\n",
    "#### Параметры конструктора\n",
    "`n_estimators` - количество используемых для предсказания деревьев.\n",
    "\n",
    "Остальное - параметры деревьев.\n",
    "\n",
    "#### Методы\n",
    "`fit(X, y)` - строит `n_estimators` деревьев по выборке `X`.\n",
    "\n",
    "`predict(X)` - для каждого элемента выборки `X` возвращает самый частый класс, который предсказывают для него деревья."
   ]
  },
  {
   "cell_type": "code",
   "execution_count": 5,
   "metadata": {
    "id": "z8KtlmvBXHIR"
   },
   "outputs": [],
   "source": [
    "class RandomForestClassifier:\n",
    "    def __init__(self, criterion=\"gini\", max_depth=None, min_samples_leaf=1, max_features=\"auto\", n_estimators=10):\n",
    "        self.criterion = gini if criterion == 'gini' else entropy\n",
    "        self.max_depth = max_depth\n",
    "        self.min_samples_leaf = min_samples_leaf\n",
    "        self.max_features = max_features\n",
    "        self.n_estimators = n_estimators\n",
    "        \n",
    "        self.trees = []\n",
    "        self.oob = []\n",
    "    \n",
    "    def fit(self, X, y):\n",
    "        for i in range(self.n_estimators):\n",
    "            random_ind = np.random.choice(np.arange(len(X)), size=len(X))\n",
    "            \n",
    "            random_ind_set = set(random_ind)\n",
    "            all_ind_set = set(np.arange(len(X)))\n",
    "            oob = np.array(list(all_ind_set - random_ind_set))\n",
    "            self.oob.append(oob)\n",
    "             \n",
    "            X_rand = X[random_ind]\n",
    "            y_rand = y[random_ind]\n",
    "            tree = DecisionTree(X_rand, y_rand, self.criterion, self.max_depth, self.min_samples_leaf, self.max_features)\n",
    "            self.trees.append(tree)\n",
    "            \n",
    "        self.calculate_feature_importances(X,y)\n",
    "        \n",
    "    def calculate_feature_importances(self, X, y):\n",
    "        importances = []\n",
    "        for i in range(self.n_estimators):\n",
    "            X_oob = X[self.oob[i]]\n",
    "            y_oob = y[self.oob[i]]\n",
    "            \n",
    "            err_oob = (self.trees[i].predict(X_oob) != y_oob).mean()\n",
    "\n",
    "            feature_importance = []\n",
    "\n",
    "            for feature in range(X.shape[1]):\n",
    "                X_shuffled = np.copy(X_oob)\n",
    "                np.random.shuffle(X_shuffled[:,feature])\n",
    "\n",
    "                err_oob_f = (self.trees[i].predict(X_shuffled) != y_oob).mean()\n",
    "                feature_importance.append(err_oob_f - err_oob)\n",
    "            \n",
    "            importances.append(feature_importance)\n",
    "        \n",
    "        self.importances = np.array(importances).mean(axis=0)\n",
    "            \n",
    "    \n",
    "    def predict(self, X):\n",
    "        results_by_trees = np.array([tree.predict(X) for tree in self.trees]).T\n",
    "        \n",
    "        result = []\n",
    "        for x_result in results_by_trees:\n",
    "            c = Counter(x_result)\n",
    "            result.append(max(c, key=c.get))\n",
    "        \n",
    "        return result"
   ]
  },
  {
   "cell_type": "markdown",
   "metadata": {
    "id": "b41Wii0_XHIR"
   },
   "source": [
    "### Задание 3 (2 балла)\n",
    "Часто хочется понимать, насколько большую роль играет тот или иной признак для предсказания класса объекта. Есть различные способы посчитать его важность. Один из простых способов сделать это для Random Forest - посчитать out-of-bag ошибку предсказания `err_oob`, а затем перемешать значения признака `j` и посчитать ее (`err_oob_j`) еще раз. Оценкой важности признака `j` для одного дерева будет разность `err_oob_j - err_oob`, важность для всего леса считается как среднее значение важности по деревьям.\n",
    "\n",
    "Реализуйте функцию `feature_importance`, которая принимает на вход Random Forest и возвращает массив, в котором содержится важность для каждого признака."
   ]
  },
  {
   "cell_type": "code",
   "execution_count": 6,
   "metadata": {
    "id": "SEa85EniXHIS"
   },
   "outputs": [],
   "source": [
    "def feature_importance(rfc):\n",
    "    return rfc.importances\n",
    "\n",
    "def most_important_features(importance, names, k=20):\n",
    "    # Выводит названия k самых важных признаков\n",
    "    idicies = np.argsort(importance)[::-1][:k]\n",
    "    return np.array(names)[idicies]"
   ]
  },
  {
   "cell_type": "markdown",
   "metadata": {
    "id": "w4VS3WDyXHIT"
   },
   "source": [
    "Наконец, пришло время протестировать наше дерево на простом синтетическом наборе данных. В результате точность должна быть примерно равна `1.0`, наибольшее значение важности должно быть у признака с индексом `4`, признаки с индексами `2` и `3`  должны быть одинаково важны, а остальные признаки - не важны совсем."
   ]
  },
  {
   "cell_type": "code",
   "execution_count": 7,
   "metadata": {
    "id": "wDbhPFWIXHIT"
   },
   "outputs": [
    {
     "name": "stdout",
     "output_type": "stream",
     "text": [
      "Accuracy: 1.0\n",
      "Importance: [9.85964545e-04 1.61264244e-04 1.58597708e-01 1.61560849e-01\n",
      " 3.36364359e-01 1.13334564e-03]\n"
     ]
    }
   ],
   "source": [
    "def synthetic_dataset(size):\n",
    "    X = [(np.random.randint(0, 2), np.random.randint(0, 2), i % 6 == 3, \n",
    "          i % 6 == 0, i % 3 == 2, np.random.randint(0, 2)) for i in range(size)]\n",
    "    y = [i % 3 for i in range(size)]\n",
    "    return np.array(X), np.array(y)\n",
    "\n",
    "X, y = synthetic_dataset(1000)\n",
    "rfc = RandomForestClassifier(n_estimators=100)\n",
    "rfc.fit(X, y)\n",
    "print(\"Accuracy:\", np.mean(rfc.predict(X) == y))\n",
    "print(\"Importance:\", feature_importance(rfc))"
   ]
  },
  {
   "cell_type": "markdown",
   "metadata": {
    "id": "JQSKeGmoXHIT"
   },
   "source": [
    "### Задание 4 (1 балл)\n",
    "Теперь поработаем с реальными данными.\n",
    "\n",
    "Выборка состоит из публичных анонимизированных данных пользователей социальной сети Вконтакте. Первые два столбца отражают возрастную группу (`zoomer`, `doomer` и `boomer`) и пол (`female`, `male`). Все остальные столбцы являются бинарными признаками, каждый из них определяет, подписан ли пользователь на определенную группу/публичную страницу или нет.\\\n",
    "\\\n",
    "Необходимо обучить два классификатора, один из которых определяет возрастную группу, а второй - пол.\\\n",
    "\\\n",
    "Эксперименты с множеством используемых признаков и подбор гиперпараметров приветствуются. Лес должен строиться за какое-то разумное время."
   ]
  },
  {
   "cell_type": "code",
   "execution_count": 8,
   "metadata": {
    "id": "xA1GfFJMXHIU"
   },
   "outputs": [],
   "source": [
    "def read_dataset(path):\n",
    "    dataframe = pandas.read_csv(path, header=0)\n",
    "    dataset = dataframe.values.tolist()\n",
    "    random.shuffle(dataset)\n",
    "    y_age = [row[0] for row in dataset]\n",
    "    y_sex = [row[1] for row in dataset]\n",
    "    X = [row[2:] for row in dataset]\n",
    "    \n",
    "    return np.array(X), np.array(y_age), np.array(y_sex), list(dataframe.columns)[2:]"
   ]
  },
  {
   "cell_type": "code",
   "execution_count": 9,
   "metadata": {
    "id": "qYKHUy7gXHIU"
   },
   "outputs": [],
   "source": [
    "X, y_age, y_sex, features = read_dataset(\"vk.csv\")\n",
    "X_train, X_test, y_age_train, y_age_test, y_sex_train, y_sex_test = train_test_split(X, y_age, y_sex, train_size=0.9)"
   ]
  },
  {
   "cell_type": "markdown",
   "metadata": {
    "id": "eKVys5RMXHIU"
   },
   "source": [
    "#### Возраст"
   ]
  },
  {
   "cell_type": "code",
   "execution_count": 10,
   "metadata": {
    "id": "LYUV5yZHXHIU"
   },
   "outputs": [
    {
     "name": "stdout",
     "output_type": "stream",
     "text": [
      "Accuracy: 0.7036569987389659\n",
      "Most important features:\n",
      "1. ovsyanochan\n",
      "2. mudakoff\n",
      "3. styd.pozor\n",
      "4. 4ch\n",
      "5. rhymes\n",
      "6. dayvinchik\n",
      "7. rapnewrap\n",
      "8. iwantyou\n",
      "9. tumblr_vacuum\n",
      "10. pixel_stickers\n",
      "11. pravdashowtop\n",
      "12. leprum\n",
      "13. bot_maxim\n",
      "14. bestad\n",
      "15. reflexia_our_feelings\n",
      "16. bog_memes\n",
      "17. xfilm\n",
      "18. ultrapir\n",
      "19. top_screens\n",
      "20. soverwenstvo.decora\n"
     ]
    }
   ],
   "source": [
    "rfc = RandomForestClassifier(n_estimators=10)\n",
    "\n",
    "rfc.fit(X_train, y_age_train)\n",
    "print(\"Accuracy:\", np.mean(rfc.predict(X_test) == y_age_test))\n",
    "print(\"Most important features:\")\n",
    "for i, name in enumerate(most_important_features(feature_importance(rfc), features, 20)):\n",
    "    print(str(i+1) + \".\", name)"
   ]
  },
  {
   "cell_type": "markdown",
   "metadata": {
    "id": "wJuzLuVYXHIV"
   },
   "source": [
    "#### Пол"
   ]
  },
  {
   "cell_type": "code",
   "execution_count": 11,
   "metadata": {
    "id": "rBGU4dQ_XHIV"
   },
   "outputs": [
    {
     "name": "stdout",
     "output_type": "stream",
     "text": [
      "Accuracy: 0.8385876418663304\n",
      "Most important features:\n",
      "1. 40kg\n",
      "2. modnailru\n",
      "3. girlmeme\n",
      "4. mudakoff\n",
      "5. zerofat\n",
      "6. i_d_t\n",
      "7. femalemem\n",
      "8. be.beauty\n",
      "9. 9o_6o_9o\n",
      "10. beauty\n",
      "11. reflexia_our_feelings\n",
      "12. thesmolny\n",
      "13. sh.cook\n",
      "14. woman.blog\n",
      "15. bon\n",
      "16. rapnewrap\n",
      "17. recipes40kg\n",
      "18. igm\n",
      "19. cook_good\n",
      "20. h.made\n"
     ]
    }
   ],
   "source": [
    "rfc = RandomForestClassifier(n_estimators=10)\n",
    "rfc.fit(X_train, y_sex_train)\n",
    "print(\"Accuracy:\", np.mean(rfc.predict(X_test) == y_sex_test))\n",
    "print(\"Most important features:\")\n",
    "for i, name in enumerate(most_important_features(feature_importance(rfc), features, 20)):\n",
    "    print(str(i+1) + \".\", name)"
   ]
  },
  {
   "cell_type": "markdown",
   "metadata": {
    "id": "zOO-Lk_0XHIV"
   },
   "source": [
    "### CatBoost\n",
    "В качестве альтернативы попробуем CatBoost. \n",
    "\n",
    "Установить его можно просто с помощью `pip install catboost`. Туториалы можно найти, например, [здесь](https://catboost.ai/docs/concepts/python-usages-examples.html#multiclassification) и [здесь](https://github.com/catboost/tutorials/blob/master/python_tutorial.ipynb). Главное - не забудьте использовать `loss_function='MultiClass'`.\\\n",
    "\\\n",
    "Сначала протестируйте CatBoost на синтетических данных. Выведите точность и важность признаков."
   ]
  },
  {
   "cell_type": "code",
   "execution_count": 12,
   "metadata": {
    "id": "mWBdHNJPXHIV"
   },
   "outputs": [
    {
     "name": "stdout",
     "output_type": "stream",
     "text": [
      "Accuracy: 1.0\n",
      "Importance: [1.33622563e-03 4.73973411e-03 2.79186827e+01 2.78502633e+01\n",
      " 4.42238354e+01 1.14261656e-03]\n"
     ]
    }
   ],
   "source": [
    "X, y = synthetic_dataset(1000)\n",
    "\n",
    "model = CatBoostClassifier(n_estimators=100, loss_function='MultiClass', silent=True)\n",
    "model.fit(X,y)\n",
    "\n",
    "print(\"Accuracy:\", np.mean(model.predict(X).reshape(-1) == y))\n",
    "print(\"Importance:\", model.get_feature_importance())"
   ]
  },
  {
   "cell_type": "markdown",
   "metadata": {
    "id": "sj8GnxA7XHIW"
   },
   "source": [
    "### Задание 5 (3 балла)\n",
    "Попробуем применить один из используемых на практике алгоритмов. В этом нам поможет CatBoost. Также, как и реализованный ними RandomForest, применим его для определения пола и возраста пользователей сети Вконтакте, выведите названия наиболее важных признаков так же, как в задании 3.\\\n",
    "\\\n",
    "Эксперименты с множеством используемых признаков и подбор гиперпараметров приветствуются."
   ]
  },
  {
   "cell_type": "code",
   "execution_count": 13,
   "metadata": {
    "id": "HtjJ0jc8XHIW"
   },
   "outputs": [],
   "source": [
    "X, y_age, y_sex, features = read_dataset(\"vk.csv\")\n",
    "X_train, X_test, y_age_train, y_age_test, y_sex_train, y_sex_test = train_test_split(X, y_age, y_sex, train_size=0.9)\n",
    "X_train, X_eval, y_age_train, y_age_eval, y_sex_train, y_sex_eval = train_test_split(X_train, y_age_train, y_sex_train, train_size=0.8)"
   ]
  },
  {
   "cell_type": "markdown",
   "metadata": {
    "id": "HxkWgk-VXHIW"
   },
   "source": [
    "#### Возраст"
   ]
  },
  {
   "cell_type": "code",
   "execution_count": 14,
   "metadata": {},
   "outputs": [
    {
     "name": "stdout",
     "output_type": "stream",
     "text": [
      "Accuracy: 0.7011349306431274\n",
      "Most important features:\n",
      "1. ovsyanochan\n",
      "2. styd.pozor\n",
      "3. rhymes\n",
      "4. tumblr_vacuum\n",
      "5. 4ch\n",
      "6. dayvinchik\n",
      "7. pixel_stickers\n",
      "8. fuck_humor\n",
      "9. leprum\n",
      "10. xfilm\n"
     ]
    }
   ],
   "source": [
    "model = CatBoostClassifier(n_estimators=10, loss_function='MultiClass', silent=True)\n",
    "model.fit(X_train, y_age_train)\n",
    "\n",
    "print(\"Accuracy:\", np.mean(model.predict(X_test).reshape(-1) == y_age_test))\n",
    "print(\"Most important features:\")\n",
    "for i, name in enumerate(most_important_features(model.get_feature_importance(), features, 10)):\n",
    "    print(str(i+1) + \".\", name)"
   ]
  },
  {
   "cell_type": "markdown",
   "metadata": {
    "id": "xIssDLRaXHIW"
   },
   "source": [
    "#### Пол"
   ]
  },
  {
   "cell_type": "code",
   "execution_count": 15,
   "metadata": {
    "id": "nWPSbmKqXHIX"
   },
   "outputs": [
    {
     "name": "stdout",
     "output_type": "stream",
     "text": [
      "Accuracy: 0.8272383354350568\n",
      "Most important features:\n",
      "1. 40kg\n",
      "2. mudakoff\n",
      "3. girlmeme\n",
      "4. zerofat\n",
      "5. cook_good\n",
      "6. thesmolny\n",
      "7. igm\n",
      "8. modnailru\n",
      "9. bon\n",
      "10. 9o_6o_9o\n"
     ]
    }
   ],
   "source": [
    "model = CatBoostClassifier(n_estimators=10, loss_function='MultiClass', silent=True)\n",
    "model.fit(X_train, y_sex_train)\n",
    "\n",
    "print(\"Accuracy:\", np.mean(model.predict(X_test).reshape(-1) == y_sex_test))\n",
    "print(\"Most important features:\")\n",
    "for i, name in enumerate(most_important_features(model.get_feature_importance(), features, 10)):\n",
    "    print(str(i+1) + \".\", name)"
   ]
  }
 ],
 "metadata": {
  "colab": {
   "collapsed_sections": [],
   "name": "hw09_task.ipynb",
   "provenance": []
  },
  "kernelspec": {
   "display_name": "Python 3 (ipykernel)",
   "language": "python",
   "name": "python3"
  },
  "language_info": {
   "codemirror_mode": {
    "name": "ipython",
    "version": 3
   },
   "file_extension": ".py",
   "mimetype": "text/x-python",
   "name": "python",
   "nbconvert_exporter": "python",
   "pygments_lexer": "ipython3",
   "version": "3.8.10"
  }
 },
 "nbformat": 4,
 "nbformat_minor": 1
}
